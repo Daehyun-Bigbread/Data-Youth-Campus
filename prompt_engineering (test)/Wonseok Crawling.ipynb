{
 "cells": [
  {
   "cell_type": "code",
   "execution_count": 2,
   "metadata": {},
   "outputs": [
    {
     "name": "stdout",
     "output_type": "stream",
     "text": [
      "Requirement already satisfied: selenium in c:\\users\\bigda\\anaconda3\\lib\\site-packages (4.10.0)Note: you may need to restart the kernel to use updated packages.\n",
      "Requirement already satisfied: certifi>=2021.10.8 in c:\\users\\bigda\\anaconda3\\lib\\site-packages (from selenium) (2023.5.7)\n",
      "Requirement already satisfied: urllib3[socks]<3,>=1.26 in c:\\users\\bigda\\anaconda3\\lib\\site-packages (from selenium) (2.0.4)\n",
      "\n",
      "Requirement already satisfied: trio-websocket~=0.9 in c:\\users\\bigda\\anaconda3\\lib\\site-packages (from selenium) (0.10.3)\n",
      "Requirement already satisfied: trio~=0.17 in c:\\users\\bigda\\anaconda3\\lib\\site-packages (from selenium) (0.22.2)\n",
      "Requirement already satisfied: pysocks!=1.5.7,<2.0,>=1.5.6; extra == \"socks\" in c:\\users\\bigda\\anaconda3\\lib\\site-packages (from urllib3[socks]<3,>=1.26->selenium) (1.7.1)\n",
      "Requirement already satisfied: wsproto>=0.14 in c:\\users\\bigda\\anaconda3\\lib\\site-packages (from trio-websocket~=0.9->selenium) (1.2.0)\n",
      "Requirement already satisfied: exceptiongroup in c:\\users\\bigda\\anaconda3\\lib\\site-packages (from trio-websocket~=0.9->selenium) (1.1.2)\n",
      "Requirement already satisfied: attrs>=20.1.0 in c:\\users\\bigda\\anaconda3\\lib\\site-packages (from trio~=0.17->selenium) (20.3.0)\n",
      "Requirement already satisfied: idna in c:\\users\\bigda\\anaconda3\\lib\\site-packages (from trio~=0.17->selenium) (2.10)\n",
      "Requirement already satisfied: sortedcontainers in c:\\users\\bigda\\anaconda3\\lib\\site-packages (from trio~=0.17->selenium) (2.2.2)\n",
      "Requirement already satisfied: sniffio in c:\\users\\bigda\\anaconda3\\lib\\site-packages (from trio~=0.17->selenium) (1.3.0)\n",
      "Requirement already satisfied: outcome in c:\\users\\bigda\\anaconda3\\lib\\site-packages (from trio~=0.17->selenium) (1.2.0)\n",
      "Requirement already satisfied: cffi>=1.14; os_name == \"nt\" and implementation_name != \"pypy\" in c:\\users\\bigda\\anaconda3\\lib\\site-packages (from trio~=0.17->selenium) (1.14.3)\n",
      "Requirement already satisfied: h11<1,>=0.9.0 in c:\\users\\bigda\\anaconda3\\lib\\site-packages (from wsproto>=0.14->trio-websocket~=0.9->selenium) (0.14.0)\n",
      "Requirement already satisfied: pycparser in c:\\users\\bigda\\anaconda3\\lib\\site-packages (from cffi>=1.14; os_name == \"nt\" and implementation_name != \"pypy\"->trio~=0.17->selenium) (2.20)\n"
     ]
    }
   ],
   "source": [
    "pip install selenium"
   ]
  },
  {
   "cell_type": "code",
   "execution_count": 3,
   "metadata": {},
   "outputs": [],
   "source": [
    "# 전체 크롤링 코드\n",
    "import requests\n",
    "from bs4 import BeautifulSoup\n",
    "\n",
    "from selenium import webdriver\n",
    "from selenium.webdriver.common.keys import Keys\n",
    "import time\n",
    "import random\n",
    "from selenium.webdriver.chrome.service import Service\n",
    "from selenium.webdriver.common.by import By\n",
    "from selenium.webdriver.chrome.options import Options\n",
    "from webdriver_manager.chrome import ChromeDriverManager\n",
    "from collections import defaultdict"
   ]
  },
  {
   "cell_type": "code",
   "execution_count": 7,
   "metadata": {},
   "outputs": [],
   "source": [
    "options = Options()\n",
    "user_agent = 'Mozilla/5.0 (Windows NT 10.0; Win64; x64) AppleWebKit/537.36 (KHTML, like Gecko) Chrome/115.0.0.0 Safari/537.36'\n",
    "options.add_experimental_option('excludeSwitches', ['enable-logging']) # Usb Error ignore\n",
    "options.add_argument(\"no-sandbox\") \n",
    "options.add_argument('window-size=1920x1080')\n",
    "# options.add_argument('headless')\n",
    "options.add_argument(\"disable-infobars\")\n",
    "options.add_argument(\"--disable-extensions\")\n",
    "options.add_argument('user-agent='+ user_agent)\n",
    "# options.add_argument('--proxy-server=socks5://127.0.0.1:9050')\n",
    "\n",
    "driver = webdriver.Chrome(options = options)\n",
    "driver.implicitly_wait(15) # 묵시적 대기, 활성화를 최대 15초까지 기다린다."
   ]
  },
  {
   "cell_type": "code",
   "execution_count": 8,
   "metadata": {},
   "outputs": [
    {
     "ename": "NameError",
     "evalue": "name 'stock_df' is not defined",
     "output_type": "error",
     "traceback": [
      "\u001b[1;31m---------------------------------------------------------------------------\u001b[0m",
      "\u001b[1;31mNameError\u001b[0m                                 Traceback (most recent call last)",
      "\u001b[1;32m<ipython-input-8-fcdb7da31700>\u001b[0m in \u001b[0;36m<module>\u001b[1;34m\u001b[0m\n\u001b[0;32m      1\u001b[0m \u001b[0mcompany\u001b[0m \u001b[1;33m=\u001b[0m \u001b[0mdict\u001b[0m\u001b[1;33m(\u001b[0m\u001b[1;33m)\u001b[0m\u001b[1;33m\u001b[0m\u001b[1;33m\u001b[0m\u001b[0m\n\u001b[0;32m      2\u001b[0m \u001b[0mi\u001b[0m \u001b[1;33m=\u001b[0m \u001b[1;36m0\u001b[0m\u001b[1;33m\u001b[0m\u001b[1;33m\u001b[0m\u001b[0m\n\u001b[1;32m----> 3\u001b[1;33m \u001b[1;32mfor\u001b[0m \u001b[0mindex\u001b[0m\u001b[1;33m,\u001b[0m \u001b[0mrow\u001b[0m \u001b[1;32min\u001b[0m \u001b[0mstock_df\u001b[0m\u001b[1;33m.\u001b[0m\u001b[0miterrows\u001b[0m\u001b[1;33m(\u001b[0m\u001b[1;33m)\u001b[0m\u001b[1;33m:\u001b[0m\u001b[1;33m\u001b[0m\u001b[1;33m\u001b[0m\u001b[0m\n\u001b[0m\u001b[0;32m      4\u001b[0m     \u001b[0mprint\u001b[0m\u001b[1;33m(\u001b[0m\u001b[0mrow\u001b[0m\u001b[1;33m[\u001b[0m\u001b[1;34m'Name'\u001b[0m\u001b[1;33m]\u001b[0m\u001b[1;33m,\u001b[0m \u001b[1;33m(\u001b[0m\u001b[0mlen\u001b[0m\u001b[1;33m(\u001b[0m\u001b[0mstock_df\u001b[0m\u001b[1;33m)\u001b[0m\u001b[1;33m-\u001b[0m\u001b[0mi\u001b[0m\u001b[1;33m)\u001b[0m\u001b[1;33m,\u001b[0m \u001b[1;34m\"번 남았습니다.\"\u001b[0m\u001b[1;33m)\u001b[0m\u001b[1;33m\u001b[0m\u001b[1;33m\u001b[0m\u001b[0m\n\u001b[0;32m      5\u001b[0m     \u001b[0mi\u001b[0m \u001b[1;33m+=\u001b[0m \u001b[1;36m1\u001b[0m\u001b[1;33m\u001b[0m\u001b[1;33m\u001b[0m\u001b[0m\n",
      "\u001b[1;31mNameError\u001b[0m: name 'stock_df' is not defined"
     ]
    }
   ],
   "source": [
    "company = dict()\n",
    "i = 0\n",
    "for index, row in stock_df.iterrows():\n",
    "    print(row['Name'], (len(stock_df)-i), \"번 남았습니다.\")\n",
    "    i += 1\n",
    "    if i == 5:\n",
    "        break\n",
    "    time.sleep(random.uniform(10, 15)) # 서버 시도횟수\n",
    "    driver.implicitly_wait(15)\n",
    "    driver.get(f\"https://www.dnb.com/site-search-results.html#AllSearch={row['Name']}&CompanyProfilesPageNumber=1&CompanyProfilesSearch={row['Name']}&ContactProfilesPageNumber=1&DAndBMarketplacePageNumber=1&DAndBMarketplaceSearch=Apple&IndustryPageNumber=1&SiteContentPageNumber=1&SiteContentSearch={row['Name']}&tab=All\") "
   ]
  },
  {
   "cell_type": "code",
   "execution_count": null,
   "metadata": {},
   "outputs": [],
   "source": [
    "try:\n",
    "        ind_a_tag = driver.find_element(By.CSS_SELECTOR, '#page > div.content-ipar-cta.iparsys.parsys > div.SinglePageSearch.basecomp.RootBaseComponent.section > div > div > div.z_b105466b6478d8e0_tabContentsComponentWrapper.H7jcl87pRUHVsMGuetr_.z_b105466b6478d8e0_isActiveTab-true.bWQWIeQRobUvNlpeEeIt > div.z_5924c29f368a5561_topResultContainer.PkfTMnlfVSI87OftGJxB > div:nth-child(1) > div.z_b105466b6478d8e0_colorAccentWrapper.EmpMRt49dLK7BSfwaHwO > div.z_b105466b6478d8e0_searchResultsContainer.uBdFi1TMILYzved_X3wi > div.z_20f9dcf9d844d2bf_table-container.jzH4Iq8a0fLxtRaKzruO > table > tbody > tr:nth-child(1) > td.z_20f9dcf9d844d2bf_td-div.DUnLcYf0srtWETNfDOhS > a.z_20f9dcf9d844d2bf_tableCompanyNameLink.KzFf0D5CcLuHHQ6q6oQm')\n",
    "        ind_a_tag.click()\n",
    "    except:\n",
    "        continue\n"
   ]
  },
  {
   "cell_type": "code",
   "execution_count": null,
   "metadata": {},
   "outputs": [],
   "source": [
    "# 더 많은 요소 보기 클릭(See All Industries)\n",
    "    try:\n",
    "        a_tag = driver.find_element(By.CSS_SELECTOR, '#page > div.content.content-body > div.main_content > div.content-par.parsys > div.company_profile_overview.basecomp.RootBaseComponent.section > div > div > div > div.company_profile_overview_body > div > div.col-md-6.company-profile-overview-starting-margin > div:nth-child(5) > span > span.overview-industries-view-more > a')\n",
    "        a_tag.click()\n",
    "\n",
    "        ind_list = driver.find_element(By.CSS_SELECTOR, '#page > div.content.content-body > div.main_content > div.content-par.parsys > div.company_profile_overview.basecomp.RootBaseComponent.section > div > div > div > div.company_profile_overview_body > div > div.col-md-6.company-profile-overview-starting-margin > div:nth-child(5) > span > span:nth-child(2)')\n",
    "        ind_more_list = driver.find_element(By.CSS_SELECTOR, '#page > div.content.content-body > div.main_content > div.content-par.parsys > div.company_profile_overview.basecomp.RootBaseComponent.section > div > div > div > div.company_profile_overview_body > div > div.col-md-6.company-profile-overview-starting-margin > div:nth-child(5) > span > span.overview-view-more-industries-list')\n",
    "        ind_total_list = ind_list.text + ind_more_list.text"
   ]
  },
  {
   "cell_type": "code",
   "execution_count": null,
   "metadata": {},
   "outputs": [],
   "source": [
    "company[row['Name']] = ind_total_list\n",
    "    except:\n",
    "        ind_list = driver.find_element(By.CSS_SELECTOR, '#page > div.content.content-body > div.main_content > div.content-par.parsys > div.company_profile_overview.basecomp.RootBaseComponent.section > div > div > div > div.company_profile_overview_body > div > div.col-md-6.company-profile-overview-starting-margin > div:nth-child(5) > span > span:nth-child(2)')\n",
    "        # ind_more_list = driver.find_element(By.CSS_SELECTOR, '#page > div.content.content-body > div.main_content > div.content-par.parsys > div.company_profile_overview.basecomp.RootBaseComponent.section > div > div > div > div.company_profile_overview_body > div > div.col-md-6.company-profile-overview-starting-margin > div:nth-child(5) > span > span.overview-view-more-industries-list')\n",
    "        # ind_total_list = ind_list.text + ind_more_list.text\n",
    "\n",
    "        company[row['Name']] = ind_list.text\n"
   ]
  },
  {
   "cell_type": "code",
   "execution_count": null,
   "metadata": {},
   "outputs": [],
   "source": [
    "print(company)\n",
    "\n",
    "# 딕셔너리를 데이터프레임으로 변환\n",
    "df = pd.DataFrame(company.items(), columns=['Company', 'Service'])\n",
    "\n",
    "# 데이터프레임을 엑셀 파일로 저장 (파일명: 'company_services.xlsx')\n",
    "df.to_excel('company_services.xlsx', index=False)"
   ]
  },
  {
   "cell_type": "code",
   "execution_count": null,
   "metadata": {},
   "outputs": [],
   "source": [
    "import pandas as pd"
   ]
  },
  {
   "cell_type": "code",
   "execution_count": null,
   "metadata": {},
   "outputs": [],
   "source": [
    "stock_df = pd.read_csv('stock.csv',index_col=0)\n",
    "stock_df"
   ]
  }
 ],
 "metadata": {
  "kernelspec": {
   "display_name": "Python 3",
   "language": "python",
   "name": "python3"
  },
  "language_info": {
   "codemirror_mode": {
    "name": "ipython",
    "version": 3
   },
   "file_extension": ".py",
   "mimetype": "text/x-python",
   "name": "python",
   "nbconvert_exporter": "python",
   "pygments_lexer": "ipython3",
   "version": "3.8.5"
  }
 },
 "nbformat": 4,
 "nbformat_minor": 4
}
