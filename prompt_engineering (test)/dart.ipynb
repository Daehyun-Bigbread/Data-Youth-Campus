{
 "cells": [
  {
   "cell_type": "code",
   "execution_count": 1,
   "metadata": {},
   "outputs": [
    {
     "name": "stdout",
     "output_type": "stream",
     "text": [
      "Collecting dart_fss\n",
      "  Using cached dart_fss-0.4.4-py3-none-any.whl (141 kB)\n",
      "Collecting xmltodict (from dart_fss)\n",
      "  Downloading xmltodict-0.13.0-py2.py3-none-any.whl (10.0 kB)\n",
      "Requirement already satisfied: requests in c:\\users\\bigda\\anaconda3\\lib\\site-packages (from dart_fss) (2.29.0)\n",
      "Collecting arelle-release (from dart_fss)\n",
      "  Using cached arelle_release-2.11.10-py3-none-any.whl (8.0 MB)\n",
      "Requirement already satisfied: numpy in c:\\users\\bigda\\anaconda3\\lib\\site-packages (from dart_fss) (1.24.3)\n",
      "Requirement already satisfied: pandas in c:\\users\\bigda\\anaconda3\\lib\\site-packages (from dart_fss) (1.5.3)\n",
      "Requirement already satisfied: tqdm in c:\\users\\bigda\\anaconda3\\lib\\site-packages (from dart_fss) (4.65.0)\n",
      "Collecting halo (from dart_fss)\n",
      "  Using cached halo-0.0.31.tar.gz (11 kB)\n",
      "  Preparing metadata (setup.py): started\n",
      "  Preparing metadata (setup.py): finished with status 'done'\n",
      "Collecting fake-useragent>=1.0 (from dart_fss)\n",
      "  Using cached fake_useragent-1.1.3-py3-none-any.whl (50 kB)\n",
      "Requirement already satisfied: beautifulsoup4 in c:\\users\\bigda\\anaconda3\\lib\\site-packages (from dart_fss) (4.12.2)\n",
      "Requirement already satisfied: appdirs in c:\\users\\bigda\\anaconda3\\lib\\site-packages (from dart_fss) (1.4.4)\n",
      "Requirement already satisfied: certifi in c:\\users\\bigda\\anaconda3\\lib\\site-packages (from arelle-release->dart_fss) (2023.5.7)\n",
      "Collecting isodate==0.* (from arelle-release->dart_fss)\n",
      "  Using cached isodate-0.6.1-py2.py3-none-any.whl (41 kB)\n",
      "Requirement already satisfied: lxml==4.* in c:\\users\\bigda\\anaconda3\\lib\\site-packages (from arelle-release->dart_fss) (4.9.2)\n",
      "Requirement already satisfied: openpyxl==3.* in c:\\users\\bigda\\anaconda3\\lib\\site-packages (from arelle-release->dart_fss) (3.0.10)\n",
      "Requirement already satisfied: pyparsing==3.* in c:\\users\\bigda\\anaconda3\\lib\\site-packages (from arelle-release->dart_fss) (3.0.9)\n",
      "Requirement already satisfied: regex in c:\\users\\bigda\\anaconda3\\lib\\site-packages (from arelle-release->dart_fss) (2022.7.9)\n",
      "Requirement already satisfied: six in c:\\users\\bigda\\anaconda3\\lib\\site-packages (from isodate==0.*->arelle-release->dart_fss) (1.16.0)\n",
      "Requirement already satisfied: et_xmlfile in c:\\users\\bigda\\anaconda3\\lib\\site-packages (from openpyxl==3.*->arelle-release->dart_fss) (1.1.0)\n",
      "Requirement already satisfied: soupsieve>1.2 in c:\\users\\bigda\\anaconda3\\lib\\site-packages (from beautifulsoup4->dart_fss) (2.4)\n",
      "Collecting log_symbols>=0.0.14 (from halo->dart_fss)\n",
      "  Using cached log_symbols-0.0.14-py3-none-any.whl (3.1 kB)\n",
      "Collecting spinners>=0.0.24 (from halo->dart_fss)\n",
      "  Using cached spinners-0.0.24-py3-none-any.whl (5.5 kB)\n",
      "Collecting termcolor>=1.1.0 (from halo->dart_fss)\n",
      "  Downloading termcolor-2.3.0-py3-none-any.whl (6.9 kB)\n",
      "Requirement already satisfied: colorama>=0.3.9 in c:\\users\\bigda\\anaconda3\\lib\\site-packages (from halo->dart_fss) (0.4.6)\n",
      "Requirement already satisfied: python-dateutil>=2.8.1 in c:\\users\\bigda\\anaconda3\\lib\\site-packages (from pandas->dart_fss) (2.8.2)\n",
      "Requirement already satisfied: pytz>=2020.1 in c:\\users\\bigda\\anaconda3\\lib\\site-packages (from pandas->dart_fss) (2022.7)\n",
      "Requirement already satisfied: charset-normalizer<4,>=2 in c:\\users\\bigda\\anaconda3\\lib\\site-packages (from requests->dart_fss) (2.0.4)\n",
      "Requirement already satisfied: idna<4,>=2.5 in c:\\users\\bigda\\anaconda3\\lib\\site-packages (from requests->dart_fss) (3.4)\n",
      "Requirement already satisfied: urllib3<1.27,>=1.21.1 in c:\\users\\bigda\\anaconda3\\lib\\site-packages (from requests->dart_fss) (1.26.16)\n",
      "Building wheels for collected packages: halo\n",
      "  Building wheel for halo (setup.py): started\n",
      "  Building wheel for halo (setup.py): finished with status 'done'\n",
      "  Created wheel for halo: filename=halo-0.0.31-py3-none-any.whl size=11277 sha256=a10ff170160c1abca7bc242f0ccc210135679063150d3ff2950ae3b3b66df81a\n",
      "  Stored in directory: c:\\users\\bigda\\appdata\\local\\pip\\cache\\wheels\\2e\\b1\\0a\\62566170555f623c8327d47df1f53b6e4311ec9dd0ea70a99c\n",
      "Successfully built halo\n",
      "Installing collected packages: spinners, fake-useragent, xmltodict, termcolor, log_symbols, isodate, halo, arelle-release, dart_fss\n",
      "Successfully installed arelle-release-2.11.10 dart_fss-0.4.4 fake-useragent-1.1.3 halo-0.0.31 isodate-0.6.1 log_symbols-0.0.14 spinners-0.0.24 termcolor-2.3.0 xmltodict-0.13.0\n",
      "Note: you may need to restart the kernel to use updated packages.\n"
     ]
    }
   ],
   "source": [
    "pip install dart_fss"
   ]
  },
  {
   "cell_type": "code",
   "execution_count": 2,
   "metadata": {},
   "outputs": [
    {
     "name": "stdout",
     "output_type": "stream",
     "text": [
      "Requirement already satisfied: regex in c:\\users\\bigda\\anaconda3\\lib\\site-packages (2022.7.9)\n",
      "Collecting regex\n",
      "  Downloading regex-2023.6.3-cp311-cp311-win_amd64.whl (268 kB)\n",
      "                                              0.0/268.0 kB ? eta -:--:--\n",
      "     ------------------------------------- 268.0/268.0 kB 17.2 MB/s eta 0:00:00\n",
      "Installing collected packages: regex\n",
      "  Attempting uninstall: regex\n",
      "    Found existing installation: regex 2022.7.9\n",
      "    Uninstalling regex-2022.7.9:\n",
      "      Successfully uninstalled regex-2022.7.9\n",
      "Successfully installed regex-2023.6.3\n",
      "Note: you may need to restart the kernel to use updated packages.\n"
     ]
    },
    {
     "name": "stderr",
     "output_type": "stream",
     "text": [
      "ERROR: pip's dependency resolver does not currently take into account all the packages that are installed. This behaviour is the source of the following dependency conflicts.\n",
      "transformers 2.1.1 requires sentencepiece, which is not installed.\n"
     ]
    }
   ],
   "source": [
    "pip install --upgrade regex"
   ]
  },
  {
   "cell_type": "code",
   "execution_count": 3,
   "metadata": {},
   "outputs": [
    {
     "data": {
      "application/vnd.jupyter.widget-view+json": {
       "model_id": "2e11063a31214ab893d1cd3491e75a11",
       "version_major": 2,
       "version_minor": 0
      },
      "text/plain": [
       "Output()"
      ]
     },
     "metadata": {},
     "output_type": "display_data"
    },
    {
     "data": {
      "application/vnd.jupyter.widget-view+json": {
       "model_id": "856180a92f544e69afc8ea928ed4da39",
       "version_major": 2,
       "version_minor": 0
      },
      "text/plain": [
       "Output()"
      ]
     },
     "metadata": {},
     "output_type": "display_data"
    },
    {
     "data": {
      "application/vnd.jupyter.widget-view+json": {
       "model_id": "836898d6e34946458a3e8abe2c16be8e",
       "version_major": 2,
       "version_minor": 0
      },
      "text/plain": [
       "Annual reports:   0%|          | 0/12 [00:00<?, ?report/s]"
      ]
     },
     "metadata": {},
     "output_type": "display_data"
    },
    {
     "data": {
      "text/plain": [
       "'C:\\\\Users\\\\bigda\\\\Desktop\\\\HUFS 4th Semeter\\\\Data_Youth_Campus\\\\fsdata\\\\00126380_annual.xlsx'"
      ]
     },
     "execution_count": 3,
     "metadata": {},
     "output_type": "execute_result"
    }
   ],
   "source": [
    "import dart_fss as dart\n",
    "\n",
    "# Open DART API KEY 설정\n",
    "api_key='de6d768b33912d613ca4feb09558752396d416f9'\n",
    "dart.set_api_key(api_key=api_key)\n",
    "\n",
    "# DART 에 공시된 회사 리스트 불러오기\n",
    "corp_list = dart.get_corp_list()\n",
    "\n",
    "# 삼성전자 검색\n",
    "samsung = corp_list.find_by_corp_name('삼성전자', exactly=True)[0]\n",
    "\n",
    "# 2012년부터 연간 연결재무제표 불러오기\n",
    "fs = samsung.extract_fs(bgn_de='20120101')\n",
    "\n",
    "# 재무제표 검색 결과를 엑셀파일로 저장 ( 기본저장위치: 실행폴더/fsdata )\n",
    "fs.save()"
   ]
  },
  {
   "cell_type": "code",
   "execution_count": 8,
   "metadata": {},
   "outputs": [],
   "source": [
    "import pandas as pd"
   ]
  },
  {
   "cell_type": "code",
   "execution_count": 10,
   "metadata": {},
   "outputs": [
    {
     "name": "stdout",
     "output_type": "stream",
     "text": [
      "  Unnamed: 0      info\n",
      "0     bgn_de  20120101\n",
      "1  corp_code  00126380\n",
      "2     end_de       NaN\n",
      "3       lang        ko\n",
      "4  report_tp    annual\n",
      "5   separate     False\n",
      "6  separator      True\n"
     ]
    }
   ],
   "source": [
    "# 엑셀 파일 경로를 지정합니다.\n",
    "excel_file_path = \"fsdata/00126380_annual.xlsx\"\n",
    "\n",
    "# 엑셀 파일을 읽어서 DataFrame으로 변환합니다.\n",
    "df = pd.read_excel(excel_file_path)\n",
    "\n",
    "# DataFrame의 내용을 확인합니다.\n",
    "print(df)"
   ]
  },
  {
   "cell_type": "code",
   "execution_count": null,
   "metadata": {},
   "outputs": [],
   "source": []
  }
 ],
 "metadata": {
  "kernelspec": {
   "display_name": "Python 3 (ipykernel)",
   "language": "python",
   "name": "python3"
  },
  "language_info": {
   "codemirror_mode": {
    "name": "ipython",
    "version": 3
   },
   "file_extension": ".py",
   "mimetype": "text/x-python",
   "name": "python",
   "nbconvert_exporter": "python",
   "pygments_lexer": "ipython3",
   "version": "3.11.3"
  }
 },
 "nbformat": 4,
 "nbformat_minor": 4
}
